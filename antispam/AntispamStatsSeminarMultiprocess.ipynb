{
 "cells": [
  {
   "cell_type": "markdown",
   "metadata": {},
   "source": [
    "# ** Описание **"
   ]
  },
  {
   "cell_type": "raw",
   "metadata": {},
   "source": [
    "Построить графики распределения в спам и не спам множествах следующих признаков:\n",
    "\n",
    "1\tКоличество слов на странице\n",
    "2\tСредняя длинна слова\n",
    "3\tКоличество слов в заголовке страниц (слова в теге <html><head><title> Some text </title>)\n",
    "4\tКоличество слов в анкорах ссылок (<html><body><a> Some text </a>)\n",
    "5\tКоэффициент сжатия\n",
    "\n",
    "Нужно посчитать статистику минимум по трем признакам и обязательно сделать для 1-го и 2-го признаков\n",
    "\n",
    "И отправить первое решение в соревнование https://kaggle.com/join/antispam_infopoisk\n",
    "На основании одного из указанных выше признаков попытаться разделить мн-во, так чтобы score в соревновании был больше 0.55\n",
    "\n",
    "При выполнении всех этих условия в течении семинара +1 балл к ДЗ\n",
    "\n",
    "Описание ДЗ и правил выставления за него баллов в https://inclass.kaggle.com/c/antispam-infopoisk  \n",
    "Сроки ДЗ уточнить у преподователя - обычно 2 недели"
   ]
  },
  {
   "cell_type": "code",
   "execution_count": 1,
   "metadata": {},
   "outputs": [
    {
     "name": "stdout",
     "output_type": "stream",
     "text": [
      "3.7.3\n"
     ]
    }
   ],
   "source": [
    "from __future__ import division\n",
    "\n",
    "import base64\n",
    "import csv\n",
    "import gzip\n",
    "import zlib\n",
    "from lxml import html\n",
    "\n",
    "from collections import namedtuple\n",
    "\n",
    "%matplotlib inline\n",
    "import matplotlib.pyplot as plt\n",
    "\n",
    "import pandas as pd\n",
    "import numpy as np\n",
    "\n",
    "from multiprocessing import Process, Queue, Pool, Manager\n",
    "\n",
    "from platform import python_version\n",
    "print(python_version())"
   ]
  },
  {
   "cell_type": "code",
   "execution_count": 2,
   "metadata": {},
   "outputs": [],
   "source": [
    "TRACE_NUM = 1000\n",
    "import logging\n",
    "logging.basicConfig(format='%(asctime)s %(levelname)s:%(message)s', level=logging.INFO, datefmt='%H:%M:%S')\n",
    "\n",
    "def trace(items_num, trace_num=TRACE_NUM):\n",
    "    if items_num % trace_num == 0: logging.info(\"Complete items %05d\" % items_num)\n",
    "        \n",
    "def trace_worker(items_num, worker_id, trace_num=TRACE_NUM):\n",
    "    if items_num % trace_num == 0: logging.info(\"Complete items %05d in worker_id %d\" % (items_num, worker_id))"
   ]
  },
  {
   "cell_type": "markdown",
   "metadata": {},
   "source": [
    "### Утилиты"
   ]
  },
  {
   "cell_type": "markdown",
   "metadata": {},
   "source": [
    "#### Декораторы"
   ]
  },
  {
   "cell_type": "code",
   "execution_count": 3,
   "metadata": {},
   "outputs": [],
   "source": [
    "def to_utf8(text):\n",
    "    if isinstance(text, unicode): text = text.encode('utf8')\n",
    "    return text\n",
    "\n",
    "def convert2unicode(f):\n",
    "    def tmp(text):\n",
    "        if not isinstance(text, unicode): text = text.decode('utf8')\n",
    "        return f(text)\n",
    "    return tmp\n",
    "\n",
    "def convert2lower(f):\n",
    "    def tmp(text):        \n",
    "        return f(text.lower())\n",
    "    return tmp\n",
    "\n",
    "#P.S. Декораторы могут усложнять отладку, так что от них вполне можно отказаться и воспользоваться copy-paste"
   ]
  },
  {
   "cell_type": "markdown",
   "metadata": {},
   "source": [
    "### Извлечение текста из html"
   ]
  },
  {
   "cell_type": "markdown",
   "metadata": {},
   "source": [
    "#### Извлечение текста при помощи встроенных модулей"
   ]
  },
  {
   "cell_type": "code",
   "execution_count": 4,
   "metadata": {},
   "outputs": [],
   "source": [
    "#from HTMLParser import HTMLParser\n",
    "from html.parser import HTMLParser\n",
    "import re\n",
    "\n",
    "###Извлечение текста из title можно вписать сюда\n",
    "\n",
    "class TextHTMLParser(HTMLParser):\n",
    "    def __init__(self):\n",
    "        HTMLParser.__init__(self)\n",
    "        self._text = []\n",
    "        self._title = \"\"\n",
    "        self._in_title = False\n",
    "\n",
    "    def handle_data(self, data):\n",
    "        text = data.strip()\n",
    "        if len(text) > 0:\n",
    "            text = re.sub('[ \\t\\r\\n]+', ' ', text)\n",
    "            self._text.append(text + ' ')\n",
    "\n",
    "    def handle_starttag(self, tag, attrs):\n",
    "        if tag == 'p':\n",
    "            self._text.append('\\n\\n')\n",
    "        elif tag == 'br':\n",
    "            self._text.append('\\n')\n",
    "        elif tag == 'title':\n",
    "            self._in_title = True\n",
    "\n",
    "    def handle_startendtag(self, tag, attrs):\n",
    "        if tag == 'br':\n",
    "            self._text.append('\\n\\n')\n",
    "\n",
    "    def text(self):\n",
    "        return ''.join(self._text).strip()\n",
    "\n",
    "#@convert2unicode\n",
    "def html2text_parser(text):\n",
    "    parser = TextHTMLParser()\n",
    "    parser.feed(text)\n",
    "    return parser.text()"
   ]
  },
  {
   "cell_type": "markdown",
   "metadata": {},
   "source": [
    "#### Извлечение текста при помощи дополнительных библиотек"
   ]
  },
  {
   "cell_type": "code",
   "execution_count": 5,
   "metadata": {},
   "outputs": [],
   "source": [
    "def html2text_bs(raw_html):\n",
    "    from bs4 import BeautifulSoup\n",
    "    \"\"\"\n",
    "    Тут производится извлечения из html текста\n",
    "    \"\"\"\n",
    "    soup = BeautifulSoup(raw_html, \"html.parser\")\n",
    "    [s.extract() for s in soup(['script', 'style'])]\n",
    "    return soup.get_text()\n",
    "\n",
    "def html2text_bs_visible(raw_html):\n",
    "    from bs4 import BeautifulSoup\n",
    "    \"\"\"\n",
    "    Тут производится извлечения из html текста, который видим пользователю\n",
    "    \"\"\"\n",
    "    soup = BeautifulSoup(raw_html, \"html.parser\")    \n",
    "    [s.extract() for s in soup(['style', 'script', '[document]', 'head', 'title'])]\n",
    "    return soup.get_text()\n",
    "\n",
    "def html2text_boilerpipe(raw_html):\n",
    "    import boilerpipe\n",
    "    \"\"\"\n",
    "    еще одна библиотека очень хорошо извлекающая именно видимый пользователю текст,\n",
    "    но она завязана на java\n",
    "    \"\"\"\n",
    "    pass"
   ]
  },
  {
   "cell_type": "markdown",
   "metadata": {},
   "source": [
    "#### Выбираем какой метод для конвертации html в текст будет основным"
   ]
  },
  {
   "cell_type": "code",
   "execution_count": 6,
   "metadata": {},
   "outputs": [],
   "source": [
    "html2text = html2text_bs\n",
    "#html2text = html2text_parser"
   ]
  },
  {
   "cell_type": "markdown",
   "metadata": {},
   "source": [
    "#### Методы для токенизации текста"
   ]
  },
  {
   "cell_type": "code",
   "execution_count": 7,
   "metadata": {},
   "outputs": [],
   "source": [
    "@convert2lower\n",
    "#@convert2unicode\n",
    "def easy_tokenizer(text):\n",
    "    word = \"\"\n",
    "    for symbol in text:\n",
    "        if symbol.isalnum(): word += symbol\n",
    "        elif word:\n",
    "            yield word\n",
    "            word = \"\"\n",
    "    if word: yield word\n",
    "\n",
    "PYMORPHY_CACHE = {}\n",
    "MORPH = None\n",
    "#hint, чтобы установка pymorphy2 не была бы обязательной\n",
    "def get_lemmatizer():\n",
    "    import pymorphy2\n",
    "    global MORPH\n",
    "    if MORPH is None: MORPH = pymorphy2.MorphAnalyzer()\n",
    "    return MORPH\n",
    "\n",
    "@convert2lower\n",
    "#@convert2unicode\n",
    "def pymorphy_tokenizer(text):\n",
    "    global PYMORPHY_CACHE\n",
    "    for word in easy_tokenizer(text):\n",
    "        word_hash = hash(word)\n",
    "        if word_hash not in PYMORPHY_CACHE:\n",
    "            PYMORPHY_CACHE[word_hash] = get_lemmatizer().parse(word)[0].normal_form            \n",
    "        yield PYMORPHY_CACHE[word_hash]"
   ]
  },
  {
   "cell_type": "markdown",
   "metadata": {},
   "source": [
    "#### Основная функция, которая вызывается для преобразования html в список слов"
   ]
  },
  {
   "cell_type": "code",
   "execution_count": 8,
   "metadata": {},
   "outputs": [],
   "source": [
    "def html2word(raw_html, to_text=html2text, tokenizer=easy_tokenizer):\n",
    "    return tokenizer(to_text(raw_html).lower())"
   ]
  },
  {
   "cell_type": "markdown",
   "metadata": {},
   "source": [
    "#### Рассчет финальных метрик"
   ]
  },
  {
   "cell_type": "code",
   "execution_count": 9,
   "metadata": {},
   "outputs": [],
   "source": [
    "def safe_divide(a, b):\n",
    "    if a == 0: return 0.0\n",
    "    elif b == 0: return 0.0\n",
    "    else: return a/b\n",
    "\n",
    "def calculate_metrics(predictions, threshold):    \n",
    "    \"\"\"\n",
    "    Функция подсчета метрик\n",
    "    Параметры\n",
    "    predictions - ранки по документам\n",
    "    threshold  - порог для метрик\n",
    "    \"\"\"\n",
    "    true_positive = 0\n",
    "    false_positive = 0\n",
    "    true_negative = 0\n",
    "    false_negative = 0\n",
    "    for (url_id, mark, url, prediction) in predictions:        \n",
    "        mark_predict = prediction > threshold\n",
    "\n",
    "        if mark_predict:                     \n",
    "            if mark_predict == mark: true_positive += 1\n",
    "            else: false_positive += 1                    \n",
    "        else:                     \n",
    "            if  mark_predict == mark: true_negative += 1\n",
    "            else: false_negative += 1\n",
    "\n",
    "    class_prec  = safe_divide(true_positive, true_positive + false_positive)\n",
    "    class_recall = safe_divide(true_positive, true_positive + false_negative)\n",
    "        \n",
    "    class_F1 = safe_divide(2 * class_prec * class_recall, class_prec + class_recall)\n",
    "    \n",
    "    \n",
    "    not_class_prec = safe_divide(true_negative, true_negative + false_negative)\n",
    "    not_class_recall = safe_divide(true_negative, true_negative + false_positive)\n",
    "    \n",
    "    not_class_F1 = safe_divide(2 * not_class_prec * not_class_recall, not_class_prec + not_class_recall)\n",
    "    \n",
    "    return ( (class_prec, class_recall, class_F1), (not_class_prec, not_class_recall, not_class_F1) )\n",
    "\n",
    "def arange(start, stop, step):\n",
    "    cur_value = start\n",
    "    while True:\n",
    "        if cur_value > stop: break\n",
    "        yield cur_value\n",
    "        cur_value += step\n",
    "\n",
    "def plot_results(docs, min_threshold=-1, max_threshold=1, step=0.1, trace=False):\n",
    "    x = []\n",
    "    y_p = []\n",
    "    y_n = []\n",
    "    docs_predictions = classifier.predict_all(docs)\n",
    "    for threshold in arange(min_threshold, max_threshold, step):\n",
    "        r = calculate_metrics(docs_predictions, threshold)\n",
    "        x.append(threshold)\n",
    "        y_p.append(r[0])\n",
    "        y_n.append(r[1])        \n",
    "        if trace: \n",
    "            print ('threshold %s' % threshold)\n",
    "            print ('\\tclass_prec %s, class_recall %s, class_F1 %s' % r[0])\n",
    "            print ('\\tnot_class_prec %s, not_class_recall %s, not_class_F1 %s' % r[1])\n",
    "            print ('\\t\\tMacroF1Mesure %s' % ((r[0][2] + r[1][2])/2))\n",
    "    plot_stats(x, y_p, \"Class Result\")\n",
    "    plot_stats(x, y_n, \"Not class Result\")    \n",
    "\n",
    "\n",
    "def plot_stats(x, y, title):\n",
    "    plt.figure(figsize=(10, 5))\n",
    "\n",
    "    prec, = plt.plot( x, \n",
    "                     [k[0] for k in y], \"r\", label='Precision', \n",
    "                     linewidth=1)\n",
    "    accur, = plt.plot( x, \n",
    "                      [k[1] for k in y], \"b\", label='Recall',\n",
    "                      linewidth=1)\n",
    "    f1, =    plt.plot( x, \n",
    "                      [k[2] for k in y], \"g\", label='F1',\n",
    "                      linewidth=1)\n",
    "    plt.grid(True)\n",
    "    plt.legend(handles=[prec, accur, f1])\n",
    "    plt.title(title)\n",
    "    plt.show()"
   ]
  },
  {
   "cell_type": "code",
   "execution_count": 44,
   "metadata": {},
   "outputs": [],
   "source": [
    "def compression_lvl (url, html_data):\n",
    "    try:\n",
    "        cmpstr = zlib.compress(html_data.encode('utf-8'))\n",
    "        return len(html_data.encode('utf-8')) / len(cmpstr)\n",
    "    except:\n",
    "        return 1\n",
    "        \n",
    "def title_words_num (url, html_data):\n",
    "    try:\n",
    "        root = html.fromstring(html_data)\n",
    "        a = root.xpath('//title')[0]\n",
    "        return len(a.text_content().split())\n",
    "    except:\n",
    "        return 0\n",
    "    \n",
    "def words_count(word, words, words_num):\n",
    "    try:\n",
    "        answer = words_num.count(word) / words_num\n",
    "    except:\n",
    "        answer = 0\n",
    "    return answer\n",
    "\n",
    "def calc_features(url, html_data):\n",
    "    words = list(html2word(html_data))\n",
    "    words_num = len(words)\n",
    "    total_len = 0\n",
    "    for word in words:\n",
    "        total_len += len(word)\n",
    "    avg_word_len = total_len / words_num\n",
    "    answer = [words_num, avg_word_len]\n",
    "\n",
    "    additional_futures = [title_words_num,\n",
    "                         compression_lvl]\n",
    "    for f in additional_futures:\n",
    "        answer.append(f(url, html_data))\n",
    "        \n",
    "    words_to_find = ['скачать', 'знакомство']\n",
    "    for word in words_to_find:\n",
    "        answer.append(words_count(word, words, words_num))\n",
    "        \n",
    "    answer.append(len(url))\n",
    "    \n",
    "    return answer"
   ]
  },
  {
   "cell_type": "code",
   "execution_count": 11,
   "metadata": {},
   "outputs": [
    {
     "name": "stdout",
     "output_type": "stream",
     "text": [
      "[6, 3.5, 2, 1.028169014084507, 0.0, 0.0]\n"
     ]
    }
   ],
   "source": [
    "test_html_data = u'''\n",
    "<html>\n",
    "<title> Заголовок Ololo </title>\n",
    "спам 1 2 3\n",
    "</html>\n",
    "'''\n",
    "test_url = 'http://ololo'\n",
    "test_features = calc_features(test_url, test_html_data)\n",
    "print (test_features)"
   ]
  },
  {
   "cell_type": "code",
   "execution_count": 49,
   "metadata": {},
   "outputs": [],
   "source": [
    "DocItem = namedtuple('DocItem', ['doc_id', 'is_spam', 'url', 'features'])\n",
    "\n",
    "workers_num = 4\n",
    "\n",
    "def process_line(i, line, calc_features_f, res_queue):\n",
    "    parts = line.strip().split('\\t')\n",
    "    url_id = int(parts[0])                                        \n",
    "    mark = bool(int(parts[1]))                    \n",
    "    url = parts[2]\n",
    "    pageInb64 = parts[3]\n",
    "    html_data = base64.b64decode(pageInb64).decode(\"utf-8\", errors='ignore')\n",
    "    features = calc_features_f(url, html_data)\n",
    "    res_queue.put(DocItem(url_id, mark, url, features))\n",
    "    trace(i)\n",
    "    \n",
    "def mp_read_csv(input_file_name, calc_features_f):\n",
    "    pool = Pool(processes=workers_num)\n",
    "    m = Manager()\n",
    "    res_queue = m.Queue()\n",
    "    jobs = []\n",
    "    \n",
    "    with gzip.open(input_file_name, 'rt') if input_file_name.endswith('gz') else open(input_file_name, 'rt')  as input_file:            \n",
    "        headers = input_file.readline()\n",
    "        for i, line in enumerate(input_file):\n",
    "            jobs.append(pool.apply_async(process_line, (i, line, calc_features_f, res_queue)))\n",
    "            \n",
    "    for job in jobs:\n",
    "        job.get()\n",
    "        \n",
    "    trace(i,1)\n",
    "        \n",
    "    while not res_queue.empty():\n",
    "        yield res_queue.get()\n",
    "        \n",
    "def load_csv(input_file_name, calc_features_f):    \n",
    "    \"\"\"\n",
    "    Загружаем данные и извлекаем на лету признаки\n",
    "    Сам контент не сохраняется, чтобы уменьшить потребление памяти - чтобы\n",
    "    можно было запускать даже на ноутбуках в классе\n",
    "    \"\"\"\n",
    "    \n",
    "    from random import random\n",
    "    i_spam = 0\n",
    "    \n",
    "    with gzip.open(input_file_name, 'rt') if input_file_name.endswith('gz') else open(input_file_name)  as input_file:            \n",
    "        headers = input_file.readline() \n",
    "        for i, line in enumerate(input_file):\n",
    "            trace(i)\n",
    "            parts = line.strip().split('\\t')\n",
    "            url_id = int(parts[0])                                        \n",
    "            mark = bool(int(parts[1]))                    \n",
    "            url = parts[2]\n",
    "            pageInb64 = parts[3]\n",
    "            html_data = base64.b64decode(pageInb64).decode(\"utf-8\", errors='ignore')\n",
    "            features = calc_features_f(url, html_data)\n",
    "            yield DocItem(url_id, mark, url, features)            \n",
    "                \n",
    "        trace(i, 1)"
   ]
  },
  {
   "cell_type": "markdown",
   "metadata": {},
   "source": [
    "** Обрабатываем входной файл **\n",
    "<br>\n",
    "Формат - поля разделенные табуляциями\n",
    "<br>\n",
    "0 - идентификатор документа\n",
    "<br>\n",
    "1 - метка класса 0 - не спам, 1 - спам\n",
    "<br>\n",
    "2 - урл документа\n",
    "<br>\n",
    "3 - документ в кодировке base64\n",
    "\n",
    "Выходной формат - массив кортежей вида\n",
    "(doc_id, is_spam, url, html_data)"
   ]
  },
  {
   "cell_type": "code",
   "execution_count": 45,
   "metadata": {
    "scrolled": false
   },
   "outputs": [
    {
     "name": "stderr",
     "output_type": "stream",
     "text": [
      "17:22:14 INFO:Complete items 00000\n",
      "17:22:35 INFO:Complete items 01000\n",
      "17:22:50 INFO:Complete items 02000\n",
      "17:23:08 INFO:Complete items 03000\n",
      "17:23:25 INFO:Complete items 04000\n",
      "17:23:45 INFO:Complete items 05000\n",
      "17:24:03 INFO:Complete items 06000\n",
      "17:24:20 INFO:Complete items 07000\n",
      "17:24:21 INFO:Complete items 07043\n"
     ]
    }
   ],
   "source": [
    "TRAIN_DATA_FILE  = 'kaggle_train_data_tab.csv'\n",
    "train_docs = list(mp_read_csv(TRAIN_DATA_FILE, calc_features))"
   ]
  },
  {
   "cell_type": "code",
   "execution_count": 37,
   "metadata": {},
   "outputs": [
    {
     "name": "stderr",
     "output_type": "stream",
     "text": [
      "/usr/lib/python3.7/site-packages/matplotlib/axes/_axes.py:6521: MatplotlibDeprecationWarning: \n",
      "The 'normed' kwarg was deprecated in Matplotlib 2.1 and will be removed in 3.1. Use 'density' instead.\n",
      "  alternative=\"'density'\", removal=\"3.1\")\n"
     ]
    },
    {
     "data": {
      "image/png": "[encoded data removed]",
      "text/plain": [
       "<Figure size 432x288 with 1 Axes>"
      ]
     },
     "metadata": {
      "needs_background": "light"
     },
     "output_type": "display_data"
    }
   ],
   "source": [
    "is_spam_data = [doc.features[0] for doc in train_docs if doc[1] == True]\n",
    "not_spam_data = [doc.features[0] for doc in train_docs if doc[1] == False]\n",
    "bins = range(0,3000,10)\n",
    "plt.hist(is_spam_data, bins=bins, color='red', normed=True, alpha=0.7, label='spam')\n",
    "plt.hist(not_spam_data, bins=bins, color='blue', normed=True, alpha=0.7, label='not_spam')\n",
    "plt.title('NumWords')\n",
    "plt.legend()\n",
    "plt.show()"
   ]
  },
  {
   "cell_type": "code",
   "execution_count": 38,
   "metadata": {},
   "outputs": [
    {
     "data": {
      "image/png": "[encoded data removed]",
      "text/plain": [
       "<Figure size 432x288 with 1 Axes>"
      ]
     },
     "metadata": {
      "needs_background": "light"
     },
     "output_type": "display_data"
    }
   ],
   "source": [
    "is_spam_data = [doc.features[1] for doc in train_docs if doc[1] == True]\n",
    "not_spam_data = [doc.features[1] for doc in train_docs if doc[1] == False]\n",
    "bins = 100\n",
    "plt.hist(is_spam_data, bins=bins, color='red', normed=True, alpha=0.7, label='spam')\n",
    "plt.hist(not_spam_data, bins=bins, color='blue', normed=True, alpha=0.7, label='not_spam')\n",
    "plt.title('AvgWordLen')\n",
    "plt.legend()\n",
    "plt.show()"
   ]
  },
  {
   "cell_type": "code",
   "execution_count": 39,
   "metadata": {},
   "outputs": [
    {
     "data": {
      "image/png": "[encoded data removed]",
      "text/plain": [
       "<Figure size 432x288 with 1 Axes>"
      ]
     },
     "metadata": {
      "needs_background": "light"
     },
     "output_type": "display_data"
    }
   ],
   "source": [
    "is_spam_data = [doc.features[2] for doc in train_docs if doc[1] == True]\n",
    "not_spam_data = [doc.features[2] for doc in train_docs if doc[1] == False]\n",
    "bins = range(0, 30, 1)\n",
    "plt.hist(is_spam_data, bins=bins, color='red', normed=True, alpha=0.7, label='spam')\n",
    "plt.hist(not_spam_data, bins=bins, color='blue', normed=True, alpha=0.7, label='not_spam')\n",
    "plt.title('NumWordsTitle')\n",
    "plt.legend()\n",
    "plt.show()"
   ]
  },
  {
   "cell_type": "code",
   "execution_count": 39,
   "metadata": {},
   "outputs": [],
   "source": [
    "X = []\n",
    "for doc in train_docs:\n",
    "    X.append(doc.features)"
   ]
  },
  {
   "cell_type": "code",
   "execution_count": 44,
   "metadata": {},
   "outputs": [],
   "source": [
    "y = []\n",
    "for doc in train_docs:\n",
    "    y.append(doc.is_spam)"
   ]
  },
  {
   "cell_type": "markdown",
   "metadata": {},
   "source": [
    "****ДАТА СОСАЕНС НАЧИНАЕТСЯ ТУТ****"
   ]
  },
  {
   "cell_type": "code",
   "execution_count": 40,
   "metadata": {},
   "outputs": [
    {
     "name": "stderr",
     "output_type": "stream",
     "text": [
      "17:09:18 INFO:Complete items 00000\n",
      "17:09:48 INFO:Complete items 01000\n",
      "17:10:15 INFO:Complete items 02000\n",
      "17:10:45 INFO:Complete items 03000\n",
      "17:11:14 INFO:Complete items 04000\n",
      "17:11:50 INFO:Complete items 05000\n",
      "17:12:23 INFO:Complete items 06000\n",
      "17:12:57 INFO:Complete items 07000\n",
      "17:12:58 INFO:Complete items 07043\n"
     ]
    }
   ],
   "source": [
    "DocData = namedtuple('DocData', ['url_id', 'mark',\n",
    "                                 'url', 'html_data', 'html_words'])\n",
    "html_data_bs = []\n",
    "input_file_name = 'kaggle_train_data_tab.csv'\n",
    "with gzip.open(input_file_name, mode='rt') if input_file_name.endswith('gz') else open(input_file_name)  as input_file:            \n",
    "    headers = input_file.readline() \n",
    "    for i, line in enumerate(input_file):\n",
    "        trace(i)\n",
    "        parts = line.strip().split('\\t')\n",
    "        url_id = int(parts[0])                                        \n",
    "        mark = bool(int(parts[1]))                    \n",
    "        url = parts[2]\n",
    "        pageInb64 = parts[3]\n",
    "        html_data = base64.b64decode(pageInb64).decode(\"utf-8\", errors='ignore')\n",
    "        words = list(html2word(html_data))\n",
    "        html_data_bs.append(DocData(url_id, mark, url, html_data, words))\n",
    "    trace(i,1)"
   ]
  },
  {
   "cell_type": "code",
   "execution_count": 42,
   "metadata": {},
   "outputs": [
    {
     "name": "stderr",
     "output_type": "stream",
     "text": [
      "17:14:58 INFO:Complete items 00000\n",
      "17:14:58 INFO:Complete items 01000\n",
      "17:14:58 INFO:Complete items 02000\n",
      "17:14:58 INFO:Complete items 03000\n",
      "17:14:58 INFO:Complete items 04000\n",
      "17:14:58 INFO:Complete items 05000\n",
      "17:14:58 INFO:Complete items 06000\n",
      "17:14:58 INFO:Complete items 07000\n",
      "17:14:58 INFO:Complete items 07043\n"
     ]
    }
   ],
   "source": [
    "spam_data_url_len = []\n",
    "not_spam_data_url_len = []\n",
    "for i, data in enumerate(html_data_bs):\n",
    "    trace(i)\n",
    "    if data[1]:\n",
    "        spam_data_url_len.append(len(data[2]))\n",
    "    else:\n",
    "        not_spam_data_url_len.append(len(data[2]))\n",
    "trace(i, 1)"
   ]
  },
  {
   "cell_type": "code",
   "execution_count": 43,
   "metadata": {},
   "outputs": [
    {
     "name": "stderr",
     "output_type": "stream",
     "text": [
      "/usr/lib/python3.7/site-packages/matplotlib/axes/_axes.py:6521: MatplotlibDeprecationWarning: \n",
      "The 'normed' kwarg was deprecated in Matplotlib 2.1 and will be removed in 3.1. Use 'density' instead.\n",
      "  alternative=\"'density'\", removal=\"3.1\")\n"
     ]
    },
    {
     "data": {
      "image/png": "[encoded data removed]",
      "text/plain": [
       "<Figure size 432x288 with 1 Axes>"
      ]
     },
     "metadata": {
      "needs_background": "light"
     },
     "output_type": "display_data"
    }
   ],
   "source": [
    "s_data = spam_data_url_len\n",
    "n_data = not_spam_data_url_len\n",
    "bins = range(0, 100, 1)\n",
    "plt.hist(s_data, bins=bins, color='red', normed=True, alpha=0.7, label='spam')\n",
    "plt.hist(n_data, bins=bins, color='blue', normed=True, alpha=0.7, label='not_spam')\n",
    "plt.legend()\n",
    "plt.show()"
   ]
  },
  {
   "cell_type": "markdown",
   "metadata": {},
   "source": [
    "** Классификатор: **\n",
    "Нужно реализовать"
   ]
  },
  {
   "cell_type": "code",
   "execution_count": 46,
   "metadata": {},
   "outputs": [],
   "source": [
    "from sklearn.tree import DecisionTreeClassifier\n",
    "from sklearn.model_selection import GridSearchCV"
   ]
  },
  {
   "cell_type": "code",
   "execution_count": 47,
   "metadata": {},
   "outputs": [],
   "source": [
    "class Classifier:\n",
    "    \n",
    "    def __init__(self):\n",
    "        self.params = {'max_depth' : range(1, 100, 2),\n",
    "                  'criterion' : ['gini', 'entropy'],\n",
    "                  'splitter' : ['best', 'random'],\n",
    "                  'max_features' : ['auto', 'log2']}\n",
    "                  #'min_impurity_decrease' : np.logspace(-5, -9, num=10, base=10).append(0)}\n",
    "            \n",
    "        self.best_clf = None\n",
    "\n",
    "    def predict(self, doc): \n",
    "        return int(self.best_clf.predict(np.reshape(doc.features, (1,-1)))[0])\n",
    "    \n",
    "    def predict_all(self, docs):\n",
    "        res = []\n",
    "        for doc_num, doc in enumerate(docs):\n",
    "            trace(doc_num)\n",
    "            prediction = self.predict(doc)            \n",
    "            res.append( (doc.doc_id, doc.is_spam, doc.url, prediction) )\n",
    "        return res\n",
    "    \n",
    "    def train(self, docs):\n",
    "        l_y = len(docs)\n",
    "        l_x = len(docs[0].features)\n",
    "        X = np.ndarray((l_y, l_x))\n",
    "        y = np.ndarray(l_y)\n",
    "        for i, doc in enumerate(docs):\n",
    "            X[i,:] = doc.features\n",
    "            y[i] = doc.is_spam\n",
    "        \n",
    "        clf = GridSearchCV(DecisionTreeClassifier(), self.params, n_jobs=-1, cv=10)\n",
    "        clf.fit(X, y)\n",
    "        self.best_clf = clf.best_estimator_\n",
    "        print(clf.best_score_)"
   ]
  },
  {
   "cell_type": "code",
   "execution_count": 48,
   "metadata": {
    "scrolled": true
   },
   "outputs": [
    {
     "name": "stdout",
     "output_type": "stream",
     "text": [
      "0.7744179443498013\n"
     ]
    }
   ],
   "source": [
    "classifier = Classifier()\n",
    "classifier.train(train_docs)"
   ]
  },
  {
   "cell_type": "code",
   "execution_count": 21,
   "metadata": {},
   "outputs": [
    {
     "data": {
      "text/plain": [
       "6"
      ]
     },
     "execution_count": 21,
     "metadata": {},
     "output_type": "execute_result"
    }
   ],
   "source": [
    "#Посмотреть, что предсказывается для тестового html\n",
    "classifier.predict(DocItem(0, 0, test_url , test_features))"
   ]
  },
  {
   "cell_type": "code",
   "execution_count": null,
   "metadata": {},
   "outputs": [
    {
     "name": "stderr",
     "output_type": "stream",
     "text": [
      "17:26:32 INFO:Complete items 00000\n",
      "17:26:32 INFO:Complete items 00000\n",
      "17:27:47 INFO:Complete items 01000\n",
      "17:27:47 INFO:Complete items 01000\n",
      "17:28:58 INFO:Complete items 02000\n",
      "17:28:58 INFO:Complete items 02000\n",
      "17:29:43 INFO:Complete items 03000\n",
      "17:29:43 INFO:Complete items 03000\n",
      "17:30:25 INFO:Complete items 04000\n",
      "17:30:25 INFO:Complete items 04000\n",
      "17:31:04 INFO:Complete items 05000\n",
      "17:31:04 INFO:Complete items 05000\n",
      "17:32:12 INFO:Complete items 06000\n",
      "17:32:12 INFO:Complete items 06000\n",
      "17:32:53 INFO:Complete items 07000\n",
      "17:32:53 INFO:Complete items 07000\n",
      "17:33:35 INFO:Complete items 08000\n",
      "17:33:35 INFO:Complete items 08000\n",
      "17:34:19 INFO:Complete items 09000\n",
      "17:34:19 INFO:Complete items 09000\n",
      "17:35:38 INFO:Complete items 10000\n",
      "17:35:38 INFO:Complete items 10000\n",
      "17:36:19 INFO:Complete items 11000\n",
      "17:36:19 INFO:Complete items 11000\n"
     ]
    }
   ],
   "source": [
    "TEST_DATA_FILE  = 'kaggle_test_data_tab.csv'\n",
    "# TEST_DATA_FILE  = 'kaggle/kaggle_train_data_tab_300.csv.gz'\n",
    "\n",
    "test_docs = load_csv(TEST_DATA_FILE, calc_features)\n",
    "\n",
    "with open('my_submission.csv' , 'wt') as fout:\n",
    "    writer = csv.writer(fout)\n",
    "    writer.writerow(['Id','Prediction'])\n",
    "    for item in classifier.predict_all(test_docs):\n",
    "        writer.writerow([item[0], item[3]])"
   ]
  },
  {
   "cell_type": "code",
   "execution_count": null,
   "metadata": {
    "collapsed": true
   },
   "outputs": [],
   "source": []
  }
 ],
 "metadata": {
  "anaconda-cloud": {},
  "kernelspec": {
   "display_name": "Python 3",
   "language": "python",
   "name": "python3"
  },
  "language_info": {
   "codemirror_mode": {
    "name": "ipython",
    "version": 3
   },
   "file_extension": ".py",
   "mimetype": "text/x-python",
   "name": "python",
   "nbconvert_exporter": "python",
   "pygments_lexer": "ipython3",
   "version": "3.7.3"
  }
 },
 "nbformat": 4,
 "nbformat_minor": 1
}
