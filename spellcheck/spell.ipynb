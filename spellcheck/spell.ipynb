{
 "cells": [
  {
   "cell_type": "code",
   "execution_count": 3,
   "metadata": {},
   "outputs": [
    {
     "data": {
      "text/plain": [
       "'3.7.3'"
      ]
     },
     "execution_count": 3,
     "metadata": {},
     "output_type": "execute_result"
    }
   ],
   "source": [
    "import pandas as pd\n",
    "import numpy as np\n",
    "from platform import python_version\n",
    "python_version()"
   ]
  },
  {
   "cell_type": "code",
   "execution_count": 2,
   "metadata": {},
   "outputs": [],
   "source": [
    "import gzip\n",
    "input_file_name = 'lenta_words.txt'\n",
    "words = []\n",
    "with open(input_file_name) as f:\n",
    "    for line in f:\n",
    "        words.append(line.strip())"
   ]
  },
  {
   "cell_type": "code",
   "execution_count": 4,
   "metadata": {},
   "outputs": [],
   "source": [
    "corpus = {}\n",
    "for word in words:\n",
    "    if word in corpus:\n",
    "        corpus[word] += 1\n",
    "    else:\n",
    "        corpus[word] = 1"
   ]
  },
  {
   "cell_type": "code",
   "execution_count": 31,
   "metadata": {},
   "outputs": [],
   "source": [
    "corpus_set = set()\n",
    "for key, value in corpus.items():\n",
    "    if value > 15:\n",
    "        corpus_set.add(key)"
   ]
  },
  {
   "cell_type": "code",
   "execution_count": 11,
   "metadata": {},
   "outputs": [],
   "source": [
    "input_words = \"\"\"путн\n",
    "оцинил\n",
    "роботу\n",
    "новвых\n",
    "самалетав\n",
    "и\n",
    "виртолтов\n",
    "в\n",
    "сирийи\"\"\".split()"
   ]
  },
  {
   "cell_type": "code",
   "execution_count": 48,
   "metadata": {},
   "outputs": [],
   "source": [
    "def distance(a, b):\n",
    "    \"Calculates the Levenshtein distance between a and b.\"\n",
    "    n, m = len(a), len(b)\n",
    "    if n > m:\n",
    "        # Make sure n <= m, to use O(min(n,m)) space\n",
    "        a, b = b, a\n",
    "        n, m = m, n\n",
    "\n",
    "    current_row = range(n+1) # Keep current and previous row, not entire matrix\n",
    "    for i in range(1, m+1):\n",
    "        previous_row, current_row = current_row, [i]+[0]*n\n",
    "        for j in range(1,n+1):\n",
    "            add, delete, change = previous_row[j]+1, current_row[j-1]+1, previous_row[j-1]\n",
    "            if a[j-1] != b[i-1]:\n",
    "                change += 1\n",
    "            current_row[j] = min(add, delete, change)\n",
    "\n",
    "    return current_row[n]"
   ]
  },
  {
   "cell_type": "code",
   "execution_count": 49,
   "metadata": {},
   "outputs": [],
   "source": [
    "def check_words(words):\n",
    "    answer = \"\"\n",
    "    for word in words:\n",
    "        a = check_word(word)\n",
    "        print(a)\n",
    "        answer += a\n",
    "        answer += \" \"\n",
    "    return answer"
   ]
  },
  {
   "cell_type": "code",
   "execution_count": 50,
   "metadata": {},
   "outputs": [],
   "source": [
    "def check_word(word):\n",
    "    min_dist = len(word)\n",
    "    answers = []\n",
    "    for right_word in corpus_set:\n",
    "        new_dist = distance(word, str(right_word))\n",
    "        if new_dist <= min_dist:\n",
    "            if new_dist < min_dist:\n",
    "                answers = []\n",
    "                min_dist = new_dist\n",
    "            answers.append(right_word)\n",
    "\n",
    "    m = 0\n",
    "    for a in answers:\n",
    "        if corpus[a] > m:\n",
    "            m = corpus[a]\n",
    "            answer = a\n",
    "    return answer"
   ]
  },
  {
   "cell_type": "code",
   "execution_count": 51,
   "metadata": {},
   "outputs": [
    {
     "name": "stdout",
     "output_type": "stream",
     "text": [
      "путин\n",
      "оценил\n",
      "работу\n",
      "новых\n",
      "самолета\n",
      "и\n",
      "вертолетов\n",
      "в\n",
      "сирии\n",
      "CPU times: user 17.3 s, sys: 0 ns, total: 17.3 s\n",
      "Wall time: 17.3 s\n"
     ]
    },
    {
     "data": {
      "text/plain": [
       "'путин оценил работу новых самолета и вертолетов в сирии '"
      ]
     },
     "execution_count": 51,
     "metadata": {},
     "output_type": "execute_result"
    }
   ],
   "source": [
    "%%time\n",
    "check_words(input_words)"
   ]
  },
  {
   "cell_type": "code",
   "execution_count": 52,
   "metadata": {},
   "outputs": [
    {
     "name": "stdout",
     "output_type": "stream",
     "text": [
      "2995 2654\n"
     ]
    }
   ],
   "source": [
    "print(corpus['самолета'], corpus['самолетов'])"
   ]
  },
  {
   "cell_type": "code",
   "execution_count": null,
   "metadata": {},
   "outputs": [],
   "source": []
  }
 ],
 "metadata": {
  "kernelspec": {
   "display_name": "Python 3",
   "language": "python",
   "name": "python3"
  },
  "language_info": {
   "codemirror_mode": {
    "name": "ipython",
    "version": 3
   },
   "file_extension": ".py",
   "mimetype": "text/x-python",
   "name": "python",
   "nbconvert_exporter": "python",
   "pygments_lexer": "ipython3",
   "version": "3.7.3"
  }
 },
 "nbformat": 4,
 "nbformat_minor": 2
}
